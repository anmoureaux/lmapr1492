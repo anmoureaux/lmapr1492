{
 "cells": [
  {
   "cell_type": "markdown",
   "metadata": {},
   "source": [
    "# Analyse de la structure de bandes électroniques du RbLaS2"
   ]
  },
  {
   "cell_type": "markdown",
   "metadata": {},
   "source": [
    "## Téléchargement de la structure de bande "
   ]
  },
  {
   "cell_type": "code",
   "execution_count": 1,
   "metadata": {},
   "outputs": [],
   "source": [
    "from pymatgen.ext.matproj import MPRester\n",
    "from pymatgen.io.cif import CifWriter\n",
    "from matplotlib import pyplot as plt \n",
    "from tabulate import tabulate\n",
    "from pymatgen.electronic_structure import bandstructure"
   ]
  },
  {
   "cell_type": "code",
   "execution_count": 2,
   "metadata": {},
   "outputs": [],
   "source": [
    "#mission 8\n",
    "m = MPRester(\"H45GsyS7rpfkZzFI\")\n",
    "bandstructure = m.get_bandstructure_by_material_id(\"mp-9361\")"
   ]
  },
  {
   "cell_type": "markdown",
   "metadata": {},
   "source": [
    "## Analyse de la bande interdite "
   ]
  },
  {
   "cell_type": "code",
   "execution_count": 3,
   "metadata": {},
   "outputs": [
    {
     "name": "stdout",
     "output_type": "stream",
     "text": [
      "Energie de la bande interdite : 2.6856999999999998 eV\n",
      "Bande interdite directe : False\n",
      "Transition dans la bande interdite : \\Gamma-F\n",
      "\n",
      "\n"
     ]
    }
   ],
   "source": [
    "bandgap = bandstructure.get_band_gap()\n",
    "print(\"Energie de la bande interdite : \"+str(bandgap['energy'])+\" eV\")\n",
    "print(\"Bande interdite directe : \"+str(bandgap['direct']))\n",
    "print(\"Transition dans la bande interdite : \"+str(bandgap['transition']))\n",
    "print(\"\\n\")"
   ]
  },
  {
   "cell_type": "markdown",
   "metadata": {},
   "source": [
    "Comme la bande interdite a une énergie supérieure à 2 eV, on peut dire du cristal qu'il a un comportement isolant au niveau électrique.\n",
    "\n",
    "En outre, la bande interdite est indirecte. Cela veut dire que le minimum de la bande de conduction et le maximum de la bande de valence correspondent à des vecteurs d'onde différents. En effet le vecteur d'onde évolue selon une direction $\\Gamma-F$ dans la bande interdite."
   ]
  },
  {
   "cell_type": "code",
   "execution_count": null,
   "metadata": {},
   "outputs": [],
   "source": []
  }
 ],
 "metadata": {
  "kernelspec": {
   "display_name": "Python 3",
   "language": "python",
   "name": "python3"
  },
  "language_info": {
   "codemirror_mode": {
    "name": "ipython",
    "version": 3
   },
   "file_extension": ".py",
   "mimetype": "text/x-python",
   "name": "python",
   "nbconvert_exporter": "python",
   "pygments_lexer": "ipython3",
   "version": "3.6.8"
  }
 },
 "nbformat": 4,
 "nbformat_minor": 2
}
