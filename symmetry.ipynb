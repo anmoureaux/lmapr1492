{
 "cells": [
  {
   "cell_type": "markdown",
   "metadata": {},
   "source": [
    "# Analyse de la symétrie du cristal RbLaS2"
   ]
  },
  {
   "cell_type": "code",
   "execution_count": 1,
   "metadata": {},
   "outputs": [],
   "source": [
    "# Anatole Moureaux\n",
    "# 29 Feb 2020\n",
    "\n",
    "from pymatgen.ext.matproj import MPRester\n",
    "from pymatgen.io.cif import CifWriter\n",
    "from pymatgen.symmetry.analyzer import *\n",
    "from pymatgen.io.cif import *\n",
    "from pymatgen.core.operations import *\n",
    "from tabulate import tabulate\n",
    "from pymatgen.symmetry.site_symmetries import *\n",
    "import matplotlib.pyplot as plt\n",
    "import matplotlib.image as mpimg"
   ]
  },
  {
   "cell_type": "markdown",
   "metadata": {},
   "source": [
    "## Téléchargement du fichier CIF symmetrized"
   ]
  },
  {
   "cell_type": "code",
   "execution_count": 2,
   "metadata": {},
   "outputs": [
    {
     "name": "stdout",
     "output_type": "stream",
     "text": [
      "Téléchargement du fichier CIF...\n",
      "Téléchargement terminé !\n"
     ]
    }
   ],
   "source": [
    "#mission 4\n",
    "print(\"Téléchargement du fichier CIF...\")\n",
    "structure = MPRester(\"H45GsyS7rpfkZzFI\").get_structure_by_material_id(\"mp-9361\")\n",
    "CifWriter(structure,0.1, write_magmoms=False).write_file(\"RbLaS2_mp-9361_symmetrized.cif\")\n",
    "print(\"Téléchargement terminé !\")"
   ]
  },
  {
   "cell_type": "markdown",
   "metadata": {},
   "source": [
    "## Analyse de 3 éléments de symétrie sur 3 atomes différents"
   ]
  },
  {
   "cell_type": "markdown",
   "metadata": {},
   "source": [
    "On commence par définir 3 opérations de symétries. Celles-ci ont été trouvées dans le fichier CIF téléchargé ci-dessus. On les instancie à l'aide du package $SymmOp$ et de leur représentation sous forme de texte."
   ]
  },
  {
   "cell_type": "code",
   "execution_count": 3,
   "metadata": {},
   "outputs": [],
   "source": [
    "#mission 6\n",
    "#liste des éléments de symétrie\n",
    "customSym1 = SymmOp.from_xyz_string('-x, -y, -z')#2\n",
    "customSym2 = SymmOp.from_xyz_string('y, x, -z')#7\n",
    "customSym3 = SymmOp.from_xyz_string('x, x-y, z')#12"
   ]
  },
  {
   "cell_type": "markdown",
   "metadata": {},
   "source": [
    "On définit également 3 atomes différents représentés par leur coordonnées dans la maille dans la maille conventionnelle."
   ]
  },
  {
   "cell_type": "code",
   "execution_count": 4,
   "metadata": {},
   "outputs": [],
   "source": [
    "#3 différents atomes : \n",
    "Rb0 = [0.0,0.0,0.0]\n",
    "La1 = [0.0,0.0,0.5]\n",
    "S2 = [0.0,0.0,0.23]"
   ]
  },
  {
   "cell_type": "markdown",
   "metadata": {},
   "source": [
    "On applique ensuite sur chaque atome défini ci-dessus une des 3 opérations de symétries préalablement définies."
   ]
  },
  {
   "cell_type": "code",
   "execution_count": 5,
   "metadata": {},
   "outputs": [],
   "source": [
    "#application des opérations\n",
    "Rb0res = customSym1.operate(Rb0)\n",
    "La1res = customSym2.operate(La1)\n",
    "S2res = customSym3.operate(S2)"
   ]
  },
  {
   "cell_type": "code",
   "execution_count": 6,
   "metadata": {},
   "outputs": [
    {
     "name": "stdout",
     "output_type": "stream",
     "text": [
      "\n",
      "\n",
      "Opération de symétrie               Atome de départ    Atome d'arrivée\n",
      "----------------------------------  -----------------  ----------------------------------\n",
      "(-x, -y, -z)                        [0.0, 0.0, 0.0]    [0. 0. 0.]\n",
      "----------------------------------\n",
      "Rot:\n",
      "[[-1.  0.  0.]\n",
      " [ 0. -1.  0.]\n",
      " [ 0.  0. -1.]]\n",
      "tau\n",
      "[0. 0. 0.]\n",
      "----------------------------------  -----------------  ----------------------------------\n",
      "(y, x, -z)                          [0.0, 0.0, 0.5]    [ 0.   0.  -0.5]\n",
      "----------------------------------\n",
      "Rot:\n",
      "[[ 0.  1.  0.]\n",
      " [ 1.  0.  0.]\n",
      " [ 0.  0. -1.]]\n",
      "tau\n",
      "[0. 0. 0.]\n",
      "----------------------------------  -----------------  ----------------------------------\n",
      "(x, x-y, z)                         [0.0, 0.0, 0.23]   [0.   0.   0.23]\n",
      "----------------------------------\n",
      "Rot:\n",
      "[[ 1.  0.  0.]\n",
      " [ 1. -1.  0.]\n",
      " [ 0.  0.  1.]]\n",
      "tau\n",
      "[0. 0. 0.]\n",
      "----------------------------------  -----------------  ----------------------------------\n"
     ]
    }
   ],
   "source": [
    "#affichage des résultats\n",
    "print(\"\\n\")\n",
    "print(tabulate([\n",
    "\t[\"(\"+str(customSym1.as_xyz_string()+\")\"),str(Rb0),str(Rb0res)],\n",
    "\t[\"----------------------------------\",\"\",\"\"],\n",
    "\t[customSym1,\"\",\"\"],\n",
    "\t[\"----------------------------------\",\"-----------------\",\"----------------------------------\"],\n",
    "\t[\"(\"+str(customSym2.as_xyz_string()+\")\"),str(La1),str(La1res)],\n",
    "\t[\"----------------------------------\",\"\",\"\"],\t\n",
    "\t[customSym2,\"\",\"\"],\n",
    "\t[\"----------------------------------\",\"-----------------\",\"----------------------------------\"],\n",
    "\t[\"(\"+str(customSym3.as_xyz_string()+\")\"),str(S2),str(S2res)],\n",
    "\t[\"----------------------------------\",\"\",\"\"],\t\n",
    "\t[customSym3,\"\",\"\"],\n",
    "\t[\"----------------------------------\",\"-----------------\",\"----------------------------------\"]],\n",
    "\theaders=[\"Opération de symétrie\",\"Atome de départ\",\"Atome d'arrivée\"]))"
   ]
  },
  {
   "cell_type": "markdown",
   "metadata": {},
   "source": [
    "### Première opération de symétrie\n",
    "\n",
    "La première opération $\\begin{pmatrix}-x&-y&-z\\end{pmatrix}$ est définie par une matrice de rotation <div align=\"center\">$\\begin{pmatrix}-1&0&0\\\\0&-1&0\\\\0&0&-1\\end{pmatrix}$ et une translation nulle. \n",
    "    \n",
    "Il s'agit de l'inversion autour du point $\\begin{pmatrix}0&0&0\\end{pmatrix}$.    \n",
    "\n",
    "Comme on choisit de l'opérer sur l'atome Rb situé en $\\begin{pmatrix}0&0&0\\end{pmatrix}$, l'atome issu de l'opération reste identique à celui de départ.\n",
    "\n",
    "<img src=\"symmetrypics/op1.png\">"
   ]
  },
  {
   "cell_type": "markdown",
   "metadata": {},
   "source": [
    "### Seconde opération de symétrie\n",
    "\n",
    "La seconde opération $\\begin{pmatrix}y&x&-z\\end{pmatrix}$ est définie par une matrice de rotation <div align=\"center\">$\\begin{pmatrix}0&1&0\\\\1&0&0\\\\0&0&-1\\end{pmatrix}$ et une translation nulle. \n",
    "    \n",
    "Il s'agit d'une rotation d'ordre 2 autour de l'axe $\\begin{bmatrix}1&1&0\\end{bmatrix}$.  \n",
    "    \n",
    "Comme on choisit de l'opérer sur l'atome La situé en $\\begin{pmatrix}0&0&0.5\\end{pmatrix}$, l'atome issu de l'opération se retrouve en $\\begin{pmatrix}0&0&-0.5\\end{pmatrix}$.\n",
    "\n",
    "<img src=\"symmetrypics/op2.jpg\">"
   ]
  },
  {
   "cell_type": "markdown",
   "metadata": {},
   "source": [
    "### Troisième opération de symétrie\n",
    "\n",
    "La dernière opération $\\begin{pmatrix}x&x-y&z\\end{pmatrix}$ est définie par une matrice de rotation <div align=\"center\">$\\begin{pmatrix}1&0&0\\\\1&-1&0\\\\0&0&1\\end{pmatrix}$ et une translation nulle. \n",
    "    \n",
    "Il s'agit d'une symétrie par plan miroir perpendiculaire à la direction $\\begin{bmatrix}0&1&0\\end{bmatrix}$.    \n",
    "    \n",
    "Comme on choisit de l'opérer sur l'atome S situé en $\\begin{pmatrix}0&0&0.23\\end{pmatrix}$, l'atome issu de l'opération reste identique à celui de départ.\n",
    "\n",
    "<img src=\"symmetrypics/op3.png\">"
   ]
  }
 ],
 "metadata": {
  "kernelspec": {
   "display_name": "Python 3",
   "language": "python",
   "name": "python3"
  },
  "language_info": {
   "codemirror_mode": {
    "name": "ipython",
    "version": 3
   },
   "file_extension": ".py",
   "mimetype": "text/x-python",
   "name": "python",
   "nbconvert_exporter": "python",
   "pygments_lexer": "ipython3",
   "version": "3.6.8"
  }
 },
 "nbformat": 4,
 "nbformat_minor": 2
}
