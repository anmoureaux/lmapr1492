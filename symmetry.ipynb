{
 "cells": [
  {
   "cell_type": "code",
   "execution_count": 1,
   "metadata": {},
   "outputs": [],
   "source": [
    "# Anatole Moureaux\n",
    "# 29 Feb 2020\n",
    "\n",
    "from pymatgen.ext.matproj import MPRester\n",
    "from pymatgen.io.cif import CifWriter\n",
    "from pymatgen.symmetry.analyzer import *\n",
    "from pymatgen.io.cif import *\n",
    "from pymatgen.core.operations import *\n",
    "from tabulate import tabulate\n",
    "from pymatgen.symmetry.site_symmetries import *\n",
    "import matplotlib.pyplot as plt\n",
    "import matplotlib.image as mpimg"
   ]
  },
  {
   "cell_type": "code",
   "execution_count": 2,
   "metadata": {},
   "outputs": [
    {
     "name": "stdout",
     "output_type": "stream",
     "text": [
      "Téléchargement du fichier CIF...\n",
      "Téléchargement terminé !\n"
     ]
    }
   ],
   "source": [
    "#mission 4\n",
    "print(\"Téléchargement du fichier CIF...\")\n",
    "structure = MPRester(\"H45GsyS7rpfkZzFI\").get_structure_by_material_id(\"mp-9361\")\n",
    "CifWriter(structure,0.1, write_magmoms=False).write_file(\"RbLaS2_mp-9361_symmetrized.cif\")\n",
    "print(\"Téléchargement terminé !\")"
   ]
  },
  {
   "cell_type": "code",
   "execution_count": 3,
   "metadata": {},
   "outputs": [],
   "source": [
    "#mission 6\n",
    "#liste des éléments de symétrie\n",
    "customSym1 = SymmOp.from_xyz_string('-x, -y, -z')#2\n",
    "customSym2 = SymmOp.from_xyz_string('y, x, -z')#7\n",
    "customSym3 = SymmOp.from_xyz_string('x, x-y, z')#12"
   ]
  },
  {
   "cell_type": "code",
   "execution_count": 4,
   "metadata": {},
   "outputs": [],
   "source": [
    "#3 différents atomes : \n",
    "Rb0 = [0.0,0.0,0.0]\n",
    "La1 = [0.0,0.0,0.5]\n",
    "S2 = [0.0,0.0,0.23]"
   ]
  },
  {
   "cell_type": "code",
   "execution_count": 5,
   "metadata": {},
   "outputs": [],
   "source": [
    "#application des opérations\n",
    "Rb0res = customSym1.operate(Rb0)\n",
    "La1res = customSym2.operate(La1)\n",
    "S2res = customSym3.operate(S2)"
   ]
  },
  {
   "cell_type": "code",
   "execution_count": 6,
   "metadata": {},
   "outputs": [
    {
     "name": "stdout",
     "output_type": "stream",
     "text": [
      "\n",
      "\n",
      "Opération de symétrie               Atome de départ    Atome d'arrivée\n",
      "----------------------------------  -----------------  ----------------------------------\n",
      "(-x, -y, -z)                        [0.0, 0.0, 0.0]    [0. 0. 0.]\n",
      "----------------------------------\n",
      "Rot:\n",
      "[[-1.  0.  0.]\n",
      " [ 0. -1.  0.]\n",
      " [ 0.  0. -1.]]\n",
      "tau\n",
      "[0. 0. 0.]\n",
      "----------------------------------  -----------------  ----------------------------------\n",
      "(y, x, -z)                          [0.0, 0.0, 0.5]    [ 0.   0.  -0.5]\n",
      "----------------------------------\n",
      "Rot:\n",
      "[[ 0.  1.  0.]\n",
      " [ 1.  0.  0.]\n",
      " [ 0.  0. -1.]]\n",
      "tau\n",
      "[0. 0. 0.]\n",
      "----------------------------------  -----------------  ----------------------------------\n",
      "(x, x-y, z)                         [0.0, 0.0, 0.23]   [0.   0.   0.23]\n",
      "----------------------------------\n",
      "Rot:\n",
      "[[ 1.  0.  0.]\n",
      " [ 1. -1.  0.]\n",
      " [ 0.  0.  1.]]\n",
      "tau\n",
      "[0. 0. 0.]\n",
      "----------------------------------  -----------------  ----------------------------------\n"
     ]
    }
   ],
   "source": [
    "#affichage des résultats\n",
    "print(\"\\n\")\n",
    "print(tabulate([\n",
    "\t[\"(\"+str(customSym1.as_xyz_string()+\")\"),str(Rb0),str(Rb0res)],\n",
    "\t[\"----------------------------------\",\"\",\"\"],\n",
    "\t[customSym1,\"\",\"\"],\n",
    "\t[\"----------------------------------\",\"-----------------\",\"----------------------------------\"],\n",
    "\t[\"(\"+str(customSym2.as_xyz_string()+\")\"),str(La1),str(La1res)],\n",
    "\t[\"----------------------------------\",\"\",\"\"],\t\n",
    "\t[customSym2,\"\",\"\"],\n",
    "\t[\"----------------------------------\",\"-----------------\",\"----------------------------------\"],\n",
    "\t[\"(\"+str(customSym3.as_xyz_string()+\")\"),str(S2),str(S2res)],\n",
    "\t[\"----------------------------------\",\"\",\"\"],\t\n",
    "\t[customSym3,\"\",\"\"],\n",
    "\t[\"----------------------------------\",\"-----------------\",\"----------------------------------\"]],\n",
    "\theaders=[\"Opération de symétrie\",\"Atome de départ\",\"Atome d'arrivée\"]))"
   ]
  },
  {
   "cell_type": "code",
   "execution_count": 7,
   "metadata": {
    "scrolled": true
   },
   "outputs": [
    {
     "data": {
      "image/png": "[encoded data removed]",
      "text/plain": [
       "<Figure size 432x288 with 3 Axes>"
      ]
     },
     "metadata": {
      "needs_background": "light"
     },
     "output_type": "display_data"
    }
   ],
   "source": [
    "img1=mpimg.imread('op1.png')\n",
    "img2=mpimg.imread('op2.png')\n",
    "img3=mpimg.imread('op3.png')\n",
    "\n",
    "fig, (ax1,ax2,ax3) = plt.subplots(1, 3)\n",
    "ax1.imshow(img1)\n",
    "ax1.set_title(\"(-x,-y,-z) on Rb0 (0,0,0)\")\n",
    "ax1.get_xaxis().set_visible(False)\n",
    "ax1.get_yaxis().set_visible(False)\n",
    "ax2.imshow(img2)\n",
    "ax2.set_title(\"(y,x,-z) on La1 (0,0,0.5)\")\n",
    "ax2.get_xaxis().set_visible(False)\n",
    "ax2.get_yaxis().set_visible(False)\n",
    "ax3.imshow(img3)\n",
    "ax3.set_title(\"(x,x-y,z) on S2 (0,0,0.23)\")\n",
    "ax3.get_xaxis().set_visible(False)\n",
    "ax3.get_yaxis().set_visible(False)\n",
    "\n",
    "plt.show()"
   ]
  },
  {
   "cell_type": "code",
   "execution_count": null,
   "metadata": {},
   "outputs": [],
   "source": []
  }
 ],
 "metadata": {
  "kernelspec": {
   "display_name": "Python 3",
   "language": "python",
   "name": "python3"
  },
  "language_info": {
   "codemirror_mode": {
    "name": "ipython",
    "version": 3
   },
   "file_extension": ".py",
   "mimetype": "text/x-python",
   "name": "python",
   "nbconvert_exporter": "python",
   "pygments_lexer": "ipython3",
   "version": "3.6.8"
  }
 },
 "nbformat": 4,
 "nbformat_minor": 2
}
