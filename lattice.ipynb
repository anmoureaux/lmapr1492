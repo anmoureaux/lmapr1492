{
 "cells": [
  {
   "cell_type": "code",
   "execution_count": 1,
   "metadata": {},
   "outputs": [],
   "source": [
    "# Anatole Moureaux\n",
    "# 20 Feb 2020\n",
    "\n",
    "from pymatgen.ext.matproj import MPRester\n",
    "from pymatgen.io.cif import CifWriter\n",
    "from pymatgen.symmetry.analyzer import *\n",
    "from tabulate import tabulate"
   ]
  },
  {
   "cell_type": "code",
   "execution_count": 2,
   "metadata": {},
   "outputs": [
    {
     "name": "stdout",
     "output_type": "stream",
     "text": [
      "Téléchargement du fichier CIF...\n",
      "Téléchargement terminé !\n"
     ]
    }
   ],
   "source": [
    "#mission 4\n",
    "print(\"Téléchargement du fichier CIF...\")\n",
    "structure = MPRester(\"H45GsyS7rpfkZzFI\").get_structure_by_material_id(\"mp-9361\")\n",
    "CifWriter(structure,0.1, write_magmoms=False).write_file(\"RbLaS2_mp-9361_symmetrized.cif\")\n",
    "print(\"Téléchargement terminé !\")"
   ]
  },
  {
   "cell_type": "code",
   "execution_count": 3,
   "metadata": {},
   "outputs": [
    {
     "name": "stdout",
     "output_type": "stream",
     "text": [
      "------------------------------  ------------------------------------------------------------\n",
      "Vecteurs du réseau direct       4.164641 -0.002581 6.920628\n",
      "                                1.919793 3.695760 6.920628\n",
      "                                -0.004253 -0.002581 8.077085\n",
      "                                ------------------------------------------------------------\n",
      "Longueurs (a,b,c)               (8.077086703595654, 8.077086706045057, 8.077086702121592)\n",
      "------------------------------  ------------------------------------------------------------\n",
      "Vecteurs du réseau réciproque   1.507309 -0.784001 0.000543\n",
      "                                0.000151 1.699011 0.000543\n",
      "                                -1.291626 -0.784001 0.776972\n",
      "                                ------------------------------------------------------------\n",
      "Longueurs (a,b,c)               (1.6990114378967087, 1.6990114361545903, 1.6990114368179632)\n",
      "------------------------------  ------------------------------------------------------------\n",
      "Type de maille                  rhombohedral\n",
      "Système cristallin              trigonal\n",
      "Groupe ponctuel                 -3m\n",
      "------------------------------  ------------------------------------------------------------\n"
     ]
    }
   ],
   "source": [
    "#mission 5\n",
    "#réseau direct\n",
    "directNetwork = structure.lattice\n",
    "#réseau réciproque\n",
    "reciprocalNetwork = structure.lattice.reciprocal_lattice\n",
    "#le reste\n",
    "spa = SpacegroupAnalyzer(structure,0.1)\n",
    "#type de maille\n",
    "latticeType = spa.get_lattice_type()\n",
    "#système cristallin\n",
    "cristalSystem = spa.get_crystal_system()\n",
    "#groupe ponctuel\n",
    "pointGroup = spa.get_point_group_symbol()\n",
    "print(tabulate([[\"Vecteurs du réseau direct\",str(directNetwork)],\n",
    "\t\t\t\t[\"\",\"------------------------------------------------------------\"],\n",
    "\t\t\t\t[\"Longueurs (a,b,c)\",str(directNetwork.abc)],\n",
    "\t\t\t\t[\"------------------------------\",\"------------------------------------------------------------\"],\n",
    "\t            [\"Vecteurs du réseau réciproque\", str(reciprocalNetwork)],\n",
    "\t            [\"\",\"------------------------------------------------------------\"],\n",
    "\t            [\"Longueurs (a,b,c)\",str(reciprocalNetwork.abc)],\n",
    "\t\t\t\t[\"------------------------------\",\"------------------------------------------------------------\"],\n",
    "\t            [\"Type de maille\",str(latticeType)],\n",
    "\t            [\"Système cristallin\",str(cristalSystem)],\n",
    "\t            [\"Groupe ponctuel\",str(pointGroup)]]))\n",
    "\n"
   ]
  },
  {
   "cell_type": "code",
   "execution_count": null,
   "metadata": {},
   "outputs": [],
   "source": []
  }
 ],
 "metadata": {
  "kernelspec": {
   "display_name": "Python 3",
   "language": "python",
   "name": "python3"
  },
  "language_info": {
   "codemirror_mode": {
    "name": "ipython",
    "version": 3
   },
   "file_extension": ".py",
   "mimetype": "text/x-python",
   "name": "python",
   "nbconvert_exporter": "python",
   "pygments_lexer": "ipython3",
   "version": "3.6.8"
  }
 },
 "nbformat": 4,
 "nbformat_minor": 2
}
