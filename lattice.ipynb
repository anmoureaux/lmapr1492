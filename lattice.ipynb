{
 "cells": [
  {
   "cell_type": "code",
   "execution_count": 100,
   "metadata": {},
   "outputs": [],
   "source": [
    "# Anatole Moureaux\n",
    "# 14 Feb 2020\n",
    "\n",
    "from pymatgen.ext.matproj import MPRester\n",
    "from pymatgen.io.cif import CifWriter\n",
    "import numpy as np\n",
    "\n",
    "#-(1)- téléchargement du fichier CIF\n",
    "\n",
    "m = MPRester(\"H45GsyS7rpfkZzFI\")\n",
    "\n",
    "#importation de la structure du RbLaS2\n",
    "structure = m.get_structure_by_material_id(\"mp-9361\")\n",
    "\n",
    "#création d'un writer de fichiers CIF\n",
    "myCifWriter = CifWriter(structure,0.1, write_magmoms=False)\n",
    "\n",
    "#écriture de la structure du RbLaS2 depuis la structure créée\n",
    "#vers un fichier CIF\n",
    "myCifWriter.write_file(\"RbLaS2_mp-9361_symmetrized_from_script.cif\")"
   ]
  },
  {
   "cell_type": "code",
   "execution_count": 106,
   "metadata": {},
   "outputs": [
    {
     "name": "stdout",
     "output_type": "stream",
     "text": [
      "a : 8.077086703595654 Angstrom\n",
      "b : 8.077086706045057 Angstrom\n",
      "c : 8.077086702121592 Angstrom\n",
      "alpha : 31.068525916388843°\n",
      "beta : 31.06852589146119°\n",
      "gamma : 31.06852588817123°\n",
      "----------------------------------------\n"
     ]
    }
   ],
   "source": [
    "#-(2)- détermination des vecteurs de base du réseau direct\n",
    "lattice = m.query(criteria={\"task_id\" : \"mp-9361\"}, properties=[\"structure.lattice\"])\n",
    "print(\"a : \"+str(lattice[0][\"structure.lattice\"][\"a\"])+\" Angstrom\")\n",
    "print(\"b : \"+str(lattice[0][\"structure.lattice\"][\"b\"])+\" Angstrom\")\n",
    "print(\"c : \"+str(lattice[0][\"structure.lattice\"][\"c\"])+\" Angstrom\")\n",
    "print(\"alpha : \"+str(lattice[0][\"structure.lattice\"][\"alpha\"])+\"°\")\n",
    "print(\"beta : \"+str(lattice[0][\"structure.lattice\"][\"beta\"])+\"°\")\n",
    "print(\"gamma : \"+str(lattice[0][\"structure.lattice\"][\"gamma\"])+\"°\")\n",
    "print(\"----------------------------------------\")"
   ]
  },
  {
   "cell_type": "code",
   "execution_count": 107,
   "metadata": {},
   "outputs": [
    {
     "name": "stdout",
     "output_type": "stream",
     "text": [
      "0.0504642926734152\n",
      "----------------------------------------\n"
     ]
    }
   ],
   "source": [
    "#-(3)- détermination des vecteurs de base du réseau réciproque\n",
    "volume = lattice[0][\"structure.lattice\"][\"volume\"]\n",
    "prod = (2*np.pi)/volume\n",
    "print(prod)\n",
    "print(\"----------------------------------------\")"
   ]
  },
  {
   "cell_type": "code",
   "execution_count": 43,
   "metadata": {},
   "outputs": [
    {
     "name": "stdout",
     "output_type": "stream",
     "text": [
      "Type de maille : R\n",
      "----------------------------------------\n"
     ]
    }
   ],
   "source": [
    "#-(4)- détermination du type de maille\n",
    "spacegroup = m.query(criteria={\"task_id\": \"mp-9361\"}, properties=[\"spacegroup\"])\n",
    "print(\"Type de maille : \"+str(spacegroup[0][\"spacegroup\"][\"symbol\"][0]))\n",
    "print(\"----------------------------------------\")"
   ]
  },
  {
   "cell_type": "code",
   "execution_count": 48,
   "metadata": {},
   "outputs": [
    {
     "name": "stdout",
     "output_type": "stream",
     "text": [
      "Système  : trigonal\n",
      "----------------------------------------\n"
     ]
    }
   ],
   "source": [
    "#-(5)- détermination du système cristallin\n",
    "print(\"Système cristallin : \"+str(spacegroup[0][\"spacegroup\"][\"crystal_system\"]))\n",
    "print(\"----------------------------------------\")"
   ]
  },
  {
   "cell_type": "code",
   "execution_count": 52,
   "metadata": {},
   "outputs": [
    {
     "name": "stdout",
     "output_type": "stream",
     "text": [
      "Groupe ponctuel : -3m\n",
      "----------------------------------------\n"
     ]
    }
   ],
   "source": [
    "#-(6)- détermination du groupe ponctuel\n",
    "print(\"Groupe ponctuel : \"+str(spacegroup[0][\"spacegroup\"][\"point_group\"]))\n",
    "print(\"----------------------------------------\") "
   ]
  }
 ],
 "metadata": {
  "kernelspec": {
   "display_name": "Python 3",
   "language": "python",
   "name": "python3"
  },
  "language_info": {
   "codemirror_mode": {
    "name": "ipython",
    "version": 3
   },
   "file_extension": ".py",
   "mimetype": "text/x-python",
   "name": "python",
   "nbconvert_exporter": "python",
   "pygments_lexer": "ipython3",
   "version": "3.6.8"
  }
 },
 "nbformat": 4,
 "nbformat_minor": 2
}
