{
 "cells": [
  {
   "cell_type": "code",
   "execution_count": 122,
   "metadata": {},
   "outputs": [],
   "source": [
    "# Anatole Moureaux\n",
    "# 20 Feb 2020\n",
    "\n",
    "from pymatgen.ext.matproj import MPRester\n",
    "from pymatgen.io.cif import CifWriter\n",
    "from pymatgen.symmetry.analyzer import *\n",
    "from tabulate import tabulate"
   ]
  },
  {
   "cell_type": "code",
   "execution_count": 123,
   "metadata": {},
   "outputs": [
    {
     "name": "stdout",
     "output_type": "stream",
     "text": [
      "Téléchargement du fichier CIF...\n",
      "Téléchargement terminé !\n"
     ]
    }
   ],
   "source": [
    "#mission 4\n",
    "print(\"Téléchargement du fichier CIF...\")\n",
    "structure = MPRester(\"H45GsyS7rpfkZzFI\").get_structure_by_material_id(\"mp-9361\")\n",
    "CifWriter(structure,0.1, write_magmoms=False).write_file(\"RbLaS2_mp-9361_symmetrized.cif\")\n",
    "print(\"Téléchargement terminé !\")"
   ]
  },
  {
   "cell_type": "code",
   "execution_count": 124,
   "metadata": {},
   "outputs": [
    {
     "name": "stdout",
     "output_type": "stream",
     "text": [
      "-----------------------------  ------------------------------------------------------------\n",
      "Vecteurs du réseau direct      (8.077086703595654, 8.077086706045057, 8.077086702121592)\n",
      "Vecteurs du réseau réciproque  (0.27040606871093, 0.27040606843366316, 0.27040606853924226)\n",
      "Type de maille                 rhombohedral\n",
      "Système cristallin             trigonal\n",
      "Groupe ponctuel                -3m\n",
      "-----------------------------  ------------------------------------------------------------\n"
     ]
    }
   ],
   "source": [
    "#mission 5\n",
    "#réseau direct\n",
    "directNetwork = structure.lattice.abc\n",
    "#réseau réciproque\n",
    "reciprocalNetwork = structure.lattice.reciprocal_lattice_crystallographic.abc\n",
    "#le reste\n",
    "spa = SpacegroupAnalyzer(structure,0.1)\n",
    "#type de maille\n",
    "latticeType = spa.get_lattice_type()\n",
    "#système cristallin\n",
    "cristalSystem = spa.get_crystal_system()\n",
    "#groupe ponctuel\n",
    "pointGroup = spa.get_point_group_symbol()\n",
    "print(tabulate([[\"Vecteurs du réseau direct\",str(directNetwork)],\n",
    "\t            [\"Vecteurs du réseau réciproque\", str(reciprocalNetwork)],\n",
    "\t            [\"Type de maille\",str(latticeType)],\n",
    "\t            [\"Système cristallin\",str(cristalSystem)],\n",
    "\t            [\"Groupe ponctuel\",str(pointGroup)]]))\n"
   ]
  },
  {
   "cell_type": "code",
   "execution_count": null,
   "metadata": {},
   "outputs": [],
   "source": []
  }
 ],
 "metadata": {
  "kernelspec": {
   "display_name": "Python 3",
   "language": "python",
   "name": "python3"
  },
  "language_info": {
   "codemirror_mode": {
    "name": "ipython",
    "version": 3
   },
   "file_extension": ".py",
   "mimetype": "text/x-python",
   "name": "python",
   "nbconvert_exporter": "python",
   "pygments_lexer": "ipython3",
   "version": "3.6.8"
  }
 },
 "nbformat": 4,
 "nbformat_minor": 2
}
