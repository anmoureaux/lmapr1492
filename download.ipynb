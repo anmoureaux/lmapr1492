{
 "cells": [
  {
   "cell_type": "code",
   "execution_count": 1,
   "metadata": {},
   "outputs": [],
   "source": [
    "# Anatole Moureaux\n",
    "# 20 Feb 2020\n",
    "from pymatgen.ext.matproj import MPRester\n",
    "from pymatgen.io.cif import CifWriter"
   ]
  },
  {
   "cell_type": "code",
   "execution_count": 2,
   "metadata": {},
   "outputs": [
    {
     "name": "stdout",
     "output_type": "stream",
     "text": [
      "Téléchargement du fichier CIF...\n",
      "Téléchargement terminé !\n"
     ]
    }
   ],
   "source": [
    "print(\"Téléchargement du fichier CIF...\")\n",
    "structure = MPRester(\"H45GsyS7rpfkZzFI\").get_structure_by_material_id(\"mp-9361\")\n",
    "CifWriter(structure,0.1, write_magmoms=False).write_file(\"RbLaS2_mp-9361_symmetrized.cif\")\n",
    "print(\"Téléchargement terminé !\")"
   ]
  },
  {
   "cell_type": "code",
   "execution_count": null,
   "metadata": {},
   "outputs": [],
   "source": []
  }
 ],
 "metadata": {
  "kernelspec": {
   "display_name": "Python 3",
   "language": "python",
   "name": "python3"
  },
  "language_info": {
   "codemirror_mode": {
    "name": "ipython",
    "version": 3
   },
   "file_extension": ".py",
   "mimetype": "text/x-python",
   "name": "python",
   "nbconvert_exporter": "python",
   "pygments_lexer": "ipython3",
   "version": "3.6.8"
  }
 },
 "nbformat": 4,
 "nbformat_minor": 2
}
