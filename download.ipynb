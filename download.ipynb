{
 "cells": [
  {
   "cell_type": "code",
   "execution_count": null,
   "metadata": {},
   "outputs": [],
   "source": [
    "# Anatole Moureaux\n",
    "# 13 Feb 2020\n",
    "from pymatgen.ext.matproj import MPRester\n",
    "from pymatgen.io.cif import CifWriter\n",
    "\n",
    "with MPRester(\"H45GsyS7rpfkZzFI\") as m:\n",
    "    #importation de la structure du RbLaS2\n",
    "    structure = m.get_structure_by_material_id(\"mp-9361\")\n",
    "    \n",
    "    #creation d'un writer de fichiers cif (rajouter symetrie)\n",
    "    myCifWriter = CifWriter(structure,0.0, write_magmoms=False)\n",
    "    \n",
    "    #ecriture de la structure du RbLaS2 depuis la structure cree\n",
    "    #vers un fichier .cif\n",
    "    myCifWriter.write_file(\"RbLAS2_mp-9361_symmetrized_from_script.cif\")"
   ]
  },
  {
   "cell_type": "code",
   "execution_count": null,
   "metadata": {},
   "outputs": [],
   "source": []
  },
  {
   "cell_type": "code",
   "execution_count": null,
   "metadata": {},
   "outputs": [],
   "source": []
  },
  {
   "cell_type": "code",
   "execution_count": null,
   "metadata": {},
   "outputs": [],
   "source": []
  },
  {
   "cell_type": "code",
   "execution_count": null,
   "metadata": {},
   "outputs": [],
   "source": []
  }
 ],
 "metadata": {
  "kernelspec": {
   "display_name": "Python 3",
   "language": "python",
   "name": "python3"
  },
  "language_info": {
   "codemirror_mode": {
    "name": "ipython",
    "version": 3
   },
   "file_extension": ".py",
   "mimetype": "text/x-python",
   "name": "python",
   "nbconvert_exporter": "python",
   "pygments_lexer": "ipython3",
   "version": "3.6.8"
  }
 },
 "nbformat": 4,
 "nbformat_minor": 2
}
