{
 "cells": [
  {
   "cell_type": "markdown",
   "metadata": {},
   "source": [
    "# Téléchargement du fichier CIF (symmetrized)"
   ]
  },
  {
   "cell_type": "code",
   "execution_count": 9,
   "metadata": {},
   "outputs": [],
   "source": [
    "# Anatole Moureaux\n",
    "# 20 Feb 2020\n",
    "from pymatgen.ext.matproj import MPRester\n",
    "from pymatgen.io.cif import CifWriter"
   ]
  },
  {
   "cell_type": "markdown",
   "metadata": {},
   "source": [
    "Une *structure* est créée à l'aide de la clé d'identification et de l'identifiant du cristal sur le Material Project. \n",
    "Une instance de la classe *CifWriter* permet d'écrire le CIF dans un fichier spécifique. Le paramètre $0.1$ permet d'écrire le CIF symmetrized. "
   ]
  },
  {
   "cell_type": "code",
   "execution_count": 10,
   "metadata": {},
   "outputs": [
    {
     "name": "stdout",
     "output_type": "stream",
     "text": [
      "Téléchargement du fichier CIF...\n",
      "Téléchargement terminé !\n"
     ]
    }
   ],
   "source": [
    "print(\"Téléchargement du fichier CIF...\")\n",
    "m = MPRester(\"H45GsyS7rpfkZzFI\")\n",
    "structure = m.get_structure_by_material_id(\"mp-9361\")\n",
    "CifWriter(structure,0.1, write_magmoms=False).write_file(\"RbLaS2_mp-9361_symmetrized.cif\")\n",
    "print(\"Téléchargement terminé !\")"
   ]
  }
 ],
 "metadata": {
  "kernelspec": {
   "display_name": "Python 3",
   "language": "python",
   "name": "python3"
  },
  "language_info": {
   "codemirror_mode": {
    "name": "ipython",
    "version": 3
   },
   "file_extension": ".py",
   "mimetype": "text/x-python",
   "name": "python",
   "nbconvert_exporter": "python",
   "pygments_lexer": "ipython3",
   "version": "3.6.8"
  }
 },
 "nbformat": 4,
 "nbformat_minor": 2
}
